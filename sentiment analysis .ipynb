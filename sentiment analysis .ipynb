{
 "cells": [
  {
   "cell_type": "code",
   "execution_count": null,
   "id": "a9426f42-3b77-4277-a62b-eb60b68a839e",
   "metadata": {},
   "outputs": [],
   "source": [
    "!pip install transformers"
   ]
  },
  {
   "cell_type": "code",
   "execution_count": 6,
   "id": "119ad1ef-d2d5-4f04-8f58-3e446501e260",
   "metadata": {},
   "outputs": [
    {
     "name": "stdout",
     "output_type": "stream",
     "text": [
      "Collecting tf-keras\n",
      "  Downloading tf_keras-2.18.0-py3-none-any.whl.metadata (1.6 kB)\n",
      "Requirement already satisfied: tensorflow<2.19,>=2.18 in c:\\users\\user\\appdata\\local\\programs\\python\\python312\\lib\\site-packages (from tf-keras) (2.18.0)\n",
      "Requirement already satisfied: tensorflow-intel==2.18.0 in c:\\users\\user\\appdata\\local\\programs\\python\\python312\\lib\\site-packages (from tensorflow<2.19,>=2.18->tf-keras) (2.18.0)\n",
      "Requirement already satisfied: absl-py>=1.0.0 in c:\\users\\user\\appdata\\local\\programs\\python\\python312\\lib\\site-packages (from tensorflow-intel==2.18.0->tensorflow<2.19,>=2.18->tf-keras) (2.1.0)\n",
      "Requirement already satisfied: astunparse>=1.6.0 in c:\\users\\user\\appdata\\local\\programs\\python\\python312\\lib\\site-packages (from tensorflow-intel==2.18.0->tensorflow<2.19,>=2.18->tf-keras) (1.6.3)\n",
      "Requirement already satisfied: flatbuffers>=24.3.25 in c:\\users\\user\\appdata\\local\\programs\\python\\python312\\lib\\site-packages (from tensorflow-intel==2.18.0->tensorflow<2.19,>=2.18->tf-keras) (24.3.25)\n",
      "Requirement already satisfied: gast!=0.5.0,!=0.5.1,!=0.5.2,>=0.2.1 in c:\\users\\user\\appdata\\local\\programs\\python\\python312\\lib\\site-packages (from tensorflow-intel==2.18.0->tensorflow<2.19,>=2.18->tf-keras) (0.6.0)\n",
      "Requirement already satisfied: google-pasta>=0.1.1 in c:\\users\\user\\appdata\\local\\programs\\python\\python312\\lib\\site-packages (from tensorflow-intel==2.18.0->tensorflow<2.19,>=2.18->tf-keras) (0.2.0)\n",
      "Requirement already satisfied: libclang>=13.0.0 in c:\\users\\user\\appdata\\local\\programs\\python\\python312\\lib\\site-packages (from tensorflow-intel==2.18.0->tensorflow<2.19,>=2.18->tf-keras) (18.1.1)\n",
      "Requirement already satisfied: opt-einsum>=2.3.2 in c:\\users\\user\\appdata\\local\\programs\\python\\python312\\lib\\site-packages (from tensorflow-intel==2.18.0->tensorflow<2.19,>=2.18->tf-keras) (3.4.0)\n",
      "Requirement already satisfied: packaging in c:\\users\\user\\appdata\\local\\programs\\python\\python312\\lib\\site-packages (from tensorflow-intel==2.18.0->tensorflow<2.19,>=2.18->tf-keras) (24.2)\n",
      "Requirement already satisfied: protobuf!=4.21.0,!=4.21.1,!=4.21.2,!=4.21.3,!=4.21.4,!=4.21.5,<6.0.0dev,>=3.20.3 in c:\\users\\user\\appdata\\local\\programs\\python\\python312\\lib\\site-packages (from tensorflow-intel==2.18.0->tensorflow<2.19,>=2.18->tf-keras) (5.28.3)\n",
      "Requirement already satisfied: requests<3,>=2.21.0 in c:\\users\\user\\appdata\\local\\programs\\python\\python312\\lib\\site-packages (from tensorflow-intel==2.18.0->tensorflow<2.19,>=2.18->tf-keras) (2.32.3)\n",
      "Requirement already satisfied: setuptools in c:\\users\\user\\appdata\\local\\programs\\python\\python312\\lib\\site-packages (from tensorflow-intel==2.18.0->tensorflow<2.19,>=2.18->tf-keras) (75.6.0)\n",
      "Requirement already satisfied: six>=1.12.0 in c:\\users\\user\\appdata\\local\\programs\\python\\python312\\lib\\site-packages (from tensorflow-intel==2.18.0->tensorflow<2.19,>=2.18->tf-keras) (1.17.0)\n",
      "Requirement already satisfied: termcolor>=1.1.0 in c:\\users\\user\\appdata\\local\\programs\\python\\python312\\lib\\site-packages (from tensorflow-intel==2.18.0->tensorflow<2.19,>=2.18->tf-keras) (2.5.0)\n",
      "Requirement already satisfied: typing-extensions>=3.6.6 in c:\\users\\user\\appdata\\local\\programs\\python\\python312\\lib\\site-packages (from tensorflow-intel==2.18.0->tensorflow<2.19,>=2.18->tf-keras) (4.12.2)\n",
      "Requirement already satisfied: wrapt>=1.11.0 in c:\\users\\user\\appdata\\local\\programs\\python\\python312\\lib\\site-packages (from tensorflow-intel==2.18.0->tensorflow<2.19,>=2.18->tf-keras) (1.17.0)\n",
      "Requirement already satisfied: grpcio<2.0,>=1.24.3 in c:\\users\\user\\appdata\\local\\programs\\python\\python312\\lib\\site-packages (from tensorflow-intel==2.18.0->tensorflow<2.19,>=2.18->tf-keras) (1.68.0)\n",
      "Requirement already satisfied: tensorboard<2.19,>=2.18 in c:\\users\\user\\appdata\\local\\programs\\python\\python312\\lib\\site-packages (from tensorflow-intel==2.18.0->tensorflow<2.19,>=2.18->tf-keras) (2.18.0)\n",
      "Requirement already satisfied: keras>=3.5.0 in c:\\users\\user\\appdata\\local\\programs\\python\\python312\\lib\\site-packages (from tensorflow-intel==2.18.0->tensorflow<2.19,>=2.18->tf-keras) (3.6.0)\n",
      "Requirement already satisfied: numpy<2.1.0,>=1.26.0 in c:\\users\\user\\appdata\\local\\programs\\python\\python312\\lib\\site-packages (from tensorflow-intel==2.18.0->tensorflow<2.19,>=2.18->tf-keras) (2.0.2)\n",
      "Requirement already satisfied: h5py>=3.11.0 in c:\\users\\user\\appdata\\local\\programs\\python\\python312\\lib\\site-packages (from tensorflow-intel==2.18.0->tensorflow<2.19,>=2.18->tf-keras) (3.12.1)\n",
      "Requirement already satisfied: ml-dtypes<0.5.0,>=0.4.0 in c:\\users\\user\\appdata\\local\\programs\\python\\python312\\lib\\site-packages (from tensorflow-intel==2.18.0->tensorflow<2.19,>=2.18->tf-keras) (0.4.1)\n",
      "Requirement already satisfied: wheel<1.0,>=0.23.0 in c:\\users\\user\\appdata\\local\\programs\\python\\python312\\lib\\site-packages (from astunparse>=1.6.0->tensorflow-intel==2.18.0->tensorflow<2.19,>=2.18->tf-keras) (0.45.1)\n",
      "Requirement already satisfied: rich in c:\\users\\user\\appdata\\local\\programs\\python\\python312\\lib\\site-packages (from keras>=3.5.0->tensorflow-intel==2.18.0->tensorflow<2.19,>=2.18->tf-keras) (13.9.4)\n",
      "Requirement already satisfied: namex in c:\\users\\user\\appdata\\local\\programs\\python\\python312\\lib\\site-packages (from keras>=3.5.0->tensorflow-intel==2.18.0->tensorflow<2.19,>=2.18->tf-keras) (0.0.8)\n",
      "Requirement already satisfied: optree in c:\\users\\user\\appdata\\local\\programs\\python\\python312\\lib\\site-packages (from keras>=3.5.0->tensorflow-intel==2.18.0->tensorflow<2.19,>=2.18->tf-keras) (0.13.1)\n",
      "Requirement already satisfied: charset-normalizer<4,>=2 in c:\\users\\user\\appdata\\local\\programs\\python\\python312\\lib\\site-packages (from requests<3,>=2.21.0->tensorflow-intel==2.18.0->tensorflow<2.19,>=2.18->tf-keras) (3.4.1)\n",
      "Requirement already satisfied: idna<4,>=2.5 in c:\\users\\user\\appdata\\local\\programs\\python\\python312\\lib\\site-packages (from requests<3,>=2.21.0->tensorflow-intel==2.18.0->tensorflow<2.19,>=2.18->tf-keras) (3.10)\n",
      "Requirement already satisfied: urllib3<3,>=1.21.1 in c:\\users\\user\\appdata\\local\\programs\\python\\python312\\lib\\site-packages (from requests<3,>=2.21.0->tensorflow-intel==2.18.0->tensorflow<2.19,>=2.18->tf-keras) (2.3.0)\n",
      "Requirement already satisfied: certifi>=2017.4.17 in c:\\users\\user\\appdata\\local\\programs\\python\\python312\\lib\\site-packages (from requests<3,>=2.21.0->tensorflow-intel==2.18.0->tensorflow<2.19,>=2.18->tf-keras) (2024.12.14)\n",
      "Requirement already satisfied: markdown>=2.6.8 in c:\\users\\user\\appdata\\local\\programs\\python\\python312\\lib\\site-packages (from tensorboard<2.19,>=2.18->tensorflow-intel==2.18.0->tensorflow<2.19,>=2.18->tf-keras) (3.7)\n",
      "Requirement already satisfied: tensorboard-data-server<0.8.0,>=0.7.0 in c:\\users\\user\\appdata\\local\\programs\\python\\python312\\lib\\site-packages (from tensorboard<2.19,>=2.18->tensorflow-intel==2.18.0->tensorflow<2.19,>=2.18->tf-keras) (0.7.2)\n",
      "Requirement already satisfied: werkzeug>=1.0.1 in c:\\users\\user\\appdata\\local\\programs\\python\\python312\\lib\\site-packages (from tensorboard<2.19,>=2.18->tensorflow-intel==2.18.0->tensorflow<2.19,>=2.18->tf-keras) (3.1.3)\n",
      "Requirement already satisfied: MarkupSafe>=2.1.1 in c:\\users\\user\\appdata\\local\\programs\\python\\python312\\lib\\site-packages (from werkzeug>=1.0.1->tensorboard<2.19,>=2.18->tensorflow-intel==2.18.0->tensorflow<2.19,>=2.18->tf-keras) (3.0.2)\n",
      "Requirement already satisfied: markdown-it-py>=2.2.0 in c:\\users\\user\\appdata\\local\\programs\\python\\python312\\lib\\site-packages (from rich->keras>=3.5.0->tensorflow-intel==2.18.0->tensorflow<2.19,>=2.18->tf-keras) (3.0.0)\n",
      "Requirement already satisfied: pygments<3.0.0,>=2.13.0 in c:\\users\\user\\appdata\\local\\programs\\python\\python312\\lib\\site-packages (from rich->keras>=3.5.0->tensorflow-intel==2.18.0->tensorflow<2.19,>=2.18->tf-keras) (2.18.0)\n",
      "Requirement already satisfied: mdurl~=0.1 in c:\\users\\user\\appdata\\local\\programs\\python\\python312\\lib\\site-packages (from markdown-it-py>=2.2.0->rich->keras>=3.5.0->tensorflow-intel==2.18.0->tensorflow<2.19,>=2.18->tf-keras) (0.1.2)\n",
      "Downloading tf_keras-2.18.0-py3-none-any.whl (1.7 MB)\n",
      "   ---------------------------------------- 0.0/1.7 MB ? eta -:--:--\n",
      "   ------------------------------------ --- 1.6/1.7 MB 11.9 MB/s eta 0:00:01\n",
      "   ---------------------------------------- 1.7/1.7 MB 4.7 MB/s eta 0:00:00\n",
      "Installing collected packages: tf-keras\n",
      "Successfully installed tf-keras-2.18.0\n"
     ]
    }
   ],
   "source": [
    "!pip install tf-keras"
   ]
  },
  {
   "cell_type": "code",
   "execution_count": 2,
   "id": "4e598cd0-833c-441d-84a4-3372b0ae4124",
   "metadata": {},
   "outputs": [],
   "source": [
    "# Text Processing\n",
    "import pandas as pd\n",
    "import nltk\n",
    "from nltk.tokenize import word_tokenize\n",
    "from nltk.corpus import stopwords\n",
    "from nltk.stem import WordNetLemmatizer\n",
    "\n",
    "# Sentiment Analysis\n",
    "from transformers import pipeline\n",
    "\n",
    "# Visualization\n",
    "import matplotlib.pyplot as plt\n",
    "import seaborn as sns\n"
   ]
  },
  {
   "cell_type": "code",
   "execution_count": 3,
   "id": "9a4006a5-ca2d-44cd-b92a-d163e1dd8609",
   "metadata": {},
   "outputs": [],
   "source": [
    "# Example text for analysis\n",
    "text = \"\"\"\n",
    "I am so happy and excited about my new job! However, I feel a bit nervous about the challenges ahead. \n",
    "Sometimes, I get frustrated when things don't go as planned.\n",
    "\"\"\"\n"
   ]
  },
  {
   "cell_type": "code",
   "execution_count": 4,
   "id": "504c6816-b955-416f-bc44-334b8c7c83d2",
   "metadata": {},
   "outputs": [
    {
     "name": "stdout",
     "output_type": "stream",
     "text": [
      "Processed Tokens: ['happy', 'excited', 'new', 'job', 'however', 'feel', 'bit', 'nervous', 'challenge', 'ahead', 'sometimes', 'get', 'frustrated', 'thing', 'go', 'planned']\n"
     ]
    }
   ],
   "source": [
    "# Initialize lemmatizer and stop words\n",
    "lemmatizer = WordNetLemmatizer()\n",
    "stop_words = set(stopwords.words('english'))\n",
    "\n",
    "# Tokenize the text\n",
    "tokens = word_tokenize(text)\n",
    "\n",
    "# Remove stop words and lemmatize\n",
    "processed_tokens = [\n",
    "    lemmatizer.lemmatize(token.lower()) \n",
    "    for token in tokens \n",
    "    if token.isalnum() and token.lower() not in stop_words\n",
    "]\n",
    "\n",
    "print(\"Processed Tokens:\", processed_tokens)\n"
   ]
  },
  {
   "cell_type": "code",
   "execution_count": 7,
   "id": "a4ec769e-17c9-43ea-a998-89196c5caf59",
   "metadata": {},
   "outputs": [
    {
     "name": "stdout",
     "output_type": "stream",
     "text": [
      "WARNING:tensorflow:From C:\\Users\\USER\\AppData\\Local\\Programs\\Python\\Python312\\Lib\\site-packages\\tf_keras\\src\\losses.py:2976: The name tf.losses.sparse_softmax_cross_entropy is deprecated. Please use tf.compat.v1.losses.sparse_softmax_cross_entropy instead.\n",
      "\n"
     ]
    },
    {
     "data": {
      "application/vnd.jupyter.widget-view+json": {
       "model_id": "087bbe6aed624320878d9406360449c9",
       "version_major": 2,
       "version_minor": 0
      },
      "text/plain": [
       "tf_model.h5:   0%|          | 0.00/329M [00:00<?, ?B/s]"
      ]
     },
     "metadata": {},
     "output_type": "display_data"
    },
    {
     "name": "stdout",
     "output_type": "stream",
     "text": [
      "WARNING:tensorflow:From C:\\Users\\USER\\AppData\\Local\\Programs\\Python\\Python312\\Lib\\site-packages\\tf_keras\\src\\backend.py:873: The name tf.get_default_graph is deprecated. Please use tf.compat.v1.get_default_graph instead.\n",
      "\n"
     ]
    },
    {
     "name": "stderr",
     "output_type": "stream",
     "text": [
      "All model checkpoint layers were used when initializing TFRobertaForSequenceClassification.\n",
      "\n",
      "All the layers of TFRobertaForSequenceClassification were initialized from the model checkpoint at j-hartmann/emotion-english-distilroberta-base.\n",
      "If your task is similar to the task the model of the checkpoint was trained on, you can already use TFRobertaForSequenceClassification for predictions without further training.\n"
     ]
    },
    {
     "data": {
      "application/vnd.jupyter.widget-view+json": {
       "model_id": "11df69d9d8e642f194b963ff530c208c",
       "version_major": 2,
       "version_minor": 0
      },
      "text/plain": [
       "tokenizer_config.json:   0%|          | 0.00/294 [00:00<?, ?B/s]"
      ]
     },
     "metadata": {},
     "output_type": "display_data"
    },
    {
     "data": {
      "application/vnd.jupyter.widget-view+json": {
       "model_id": "8bff5d1c2a5740888b57e3212d36b41b",
       "version_major": 2,
       "version_minor": 0
      },
      "text/plain": [
       "vocab.json:   0%|          | 0.00/798k [00:00<?, ?B/s]"
      ]
     },
     "metadata": {},
     "output_type": "display_data"
    },
    {
     "data": {
      "application/vnd.jupyter.widget-view+json": {
       "model_id": "2a4328cb043b41e4a6615984d9894f0d",
       "version_major": 2,
       "version_minor": 0
      },
      "text/plain": [
       "merges.txt:   0%|          | 0.00/456k [00:00<?, ?B/s]"
      ]
     },
     "metadata": {},
     "output_type": "display_data"
    },
    {
     "data": {
      "application/vnd.jupyter.widget-view+json": {
       "model_id": "58a5151f4a0e44c0b60e68576df30a9a",
       "version_major": 2,
       "version_minor": 0
      },
      "text/plain": [
       "tokenizer.json:   0%|          | 0.00/1.36M [00:00<?, ?B/s]"
      ]
     },
     "metadata": {},
     "output_type": "display_data"
    },
    {
     "data": {
      "application/vnd.jupyter.widget-view+json": {
       "model_id": "7c9a9485b2a049aa8ef7fe1ecbeaab2d",
       "version_major": 2,
       "version_minor": 0
      },
      "text/plain": [
       "special_tokens_map.json:   0%|          | 0.00/239 [00:00<?, ?B/s]"
      ]
     },
     "metadata": {},
     "output_type": "display_data"
    },
    {
     "name": "stderr",
     "output_type": "stream",
     "text": [
      "Device set to use 0\n"
     ]
    },
    {
     "name": "stdout",
     "output_type": "stream",
     "text": [
      "Emotion Analysis with Pre-trained Model: [[{'label': 'fear', 'score': 0.845206081867218}, {'label': 'joy', 'score': 0.1415574997663498}, {'label': 'sadness', 'score': 0.003964876290410757}, {'label': 'surprise', 'score': 0.003318947507068515}, {'label': 'anger', 'score': 0.0029613818041980267}, {'label': 'neutral', 'score': 0.002484560012817383}, {'label': 'disgust', 'score': 0.000506698212120682}]]\n"
     ]
    }
   ],
   "source": [
    "# Initialize emotion analysis model\n",
    "emotion_model = pipeline(\"text-classification\", model=\"j-hartmann/emotion-english-distilroberta-base\", top_k=None)\n",
    "\n",
    "# Analyze emotions for the input text\n",
    "emotions = emotion_model(text)\n",
    "print(\"Emotion Analysis with Pre-trained Model:\", emotions)\n"
   ]
  },
  {
   "cell_type": "code",
   "execution_count": 13,
   "id": "6715f42c-730e-4e51-9019-91091464d7f9",
   "metadata": {
    "scrolled": true
   },
   "outputs": [
    {
     "name": "stdout",
     "output_type": "stream",
     "text": [
      "{'victimized': \"sad',\", 'accused': \"cheated',\", 'acquitted': \"singled out',\", 'adorable': \"loved',\", 'adored': \"loved',\", 'affected': \"attracted',\", 'afflicted': \"sad',\", 'aghast': \"fearful',\", 'agog': \"attracted',\", 'agonized': \"sad',\", 'alarmed': \"fearful',\", 'amused': \"happy',\", 'angry': \"angry',\", 'anguished': \"sad',\", 'animated': \"happy',\", 'annoyed': \"angry',\", 'anxious': \"attracted',\", 'apathetic': \"apathetic',\", 'appalled': \"angry',\", 'appeased': \"singled out',\", 'appreciated': \"esteemed',\", 'apprehensive': \"anxious',\", 'approved of': \"loved',\", 'ardent': \"lustful',\", 'aroused': \"lustful',\", 'attached': \"attached',\", 'attracted': \"attracted',\", 'autonomous': \"free',\", 'awed': \"fearful',\", 'awkward': \"embarrassed',\", 'beaten down': \"powerless',\", 'beatific': \"happy',\", 'belonging': \"attached',\", 'bereaved': \"sad',\", 'betrayed': \"cheated',\", 'bewildered': \"surprise',\", 'bitter': \"angry',\", 'blissful': \"happy',\", 'blithe': \"happy',\", 'blocked': \"powerless',\", 'blue': \"sad',\", 'boiling': \"angry',\", 'bold': \"fearless',\", 'bored': \"bored',\", 'brave': \"fearless',\", 'bright': \"happy',\", 'brisk': \"happy',\", 'calm': \"safe',\", 'capable': \"adequate',\", 'captivated': \"attached',\", 'careless': \"powerless',\", 'categorized': \"singled out',\", 'cautious': \"fearful',\", 'certain': \"fearless',\", 'chagrined': \"belittled',\", 'challenged': \"attracted',\", 'chastised': \"hated',\", 'cheated': \"cheated',\", 'cheerful': \"happy',\", 'cheerless': \"sad',\", 'cheery': \"happy',\", 'cherished': \"attached',\", 'chicken': \"fearful',\", 'cocky': \"independent',\", 'codependent': \"codependent',\", 'coerced': \"cheated',\", 'comfortable': \"happy',\", 'common': \"average',\", 'competent': \"adequate',\", 'complacent': \"apathetic',\", 'composed': \"adequate',\", 'concerned': \"attracted',\", 'confident': \"adequate',\", 'confused': \"surprise',\", 'connected': \"attached',\", 'conned': \"cheated',\", 'consumed': \"obsessed',\", 'contented': \"happy',\", 'controlled': \"powerless',\", 'convivial': \"happy',\", 'cornered': \"entitled',\", 'courageous': \"fearless',\", 'cowardly': \"fearful',\", 'craving': \"attracted',\", 'crestfallen': \"sad',\", 'criticized': \"hated',\", 'cross': \"angry',\", 'cross-examined': \"singled out',\", 'crushed': \"sad',\", 'curious': \"attracted',\", 'cut off': \"alone',\", 'daring': \"fearless',\", 'dark': \"sad',\", 'dedicated': \"attracted',\", 'defeated': \"powerless',\", 'defenseless': \"fearful',\", 'degraded': \"belittled',\", 'dejected': \"sad',\", 'depressed': \"sad',\", 'deserted': \"hated',\", 'desirable': \"loved',\", 'despondent': \"sad',\", 'detached': \"alone',\", 'determined': \"focused',\", 'diminished': \"belittled',\", 'disappointed': \"demoralized',\", 'discarded': \"hated',\", 'disconsolate': \"sad',\", 'discontented': \"sad',\", 'discounted': \"belittled',\", 'discouraged': \"powerless',\", 'disgraced': \"belittled',\", 'disgusted': \"angry',\", 'disheartened': \"sad',\", 'disillusioned': \"demoralized',\", 'disjointed': \"derailed',\", 'dismal': \"sad',\", 'dismayed': \"fearful',\", 'disoriented': \"derailed',\", 'disparaged': \"cheated',\", 'displeased': \"sad',\", 'disrespected': \"belittled',\", 'distressed': \"sad',\", 'distrustful': \"anxious',\", 'dolorous': \"sad',\", 'doubtful': \"fearful',\", 'down': \"sad',\", 'downhearted': \"sad',\", 'dreadful': \"sad',\", 'dreary': \"sad',\", 'dubious': \"anxious',\", 'dull': \"sad',\", 'duped': \"cheated',\", 'eager': \"attracted',\", 'earnest': \"attracted',\", 'ecstatic': \"happy',\", 'elated': \"happy',\", 'embarrassed': \"embarrassed',\", 'empathetic': \"attached',\", 'enchanted': \"attracted',\", 'encouraged': \"adequate',\", 'engrossed': \"attracted',\", 'enraged': \"angry',\", 'enterprising': \"fearless',\", 'enthusiastic': \"happy',\", 'entrusted': \"loved',\", 'esteemed': \"esteemed',\", 'excited': \"adequate',\", 'excluded': \"alone',\", 'exempt': \"entitled',\", 'exhausted hopeless': \"powerless',\", 'exhilarated': \"happy',\", 'exploited': \"cheated',\", 'exposed': \"fearful',\", 'fabulous': \"ecstatic',\", 'fainthearted': \"fearful',\", 'fantastic': \"ecstatic',\", 'fascinated': \"attracted',\", 'favored': \"entitled',\", 'fearful': \"fearful',\", 'fervent': \"attracted',\", 'fervid': \"attracted',\", 'festive': \"happy',\", 'flat': \"sad',\", 'focused': \"focused',\", 'forced': \"powerless',\", 'forsaken': \"hated',\", 'framed': \"cheated',\", 'free': \"free',\", 'free & easy': \"happy',\", 'frightened': \"fearful',\", 'frisky': \"happy',\", 'frustrated': \"angry',\", 'full of anticipation': \"attracted',\", 'full of ennui': \"apathetic',\", 'fuming': \"angry',\", 'funereal': \"sad',\", 'furious': \"angry',\", 'gallant': \"fearless',\", 'genial': \"happy',\", 'glad': \"happy',\", 'gleeful': \"happy',\", 'gloomy': \"sad',\", 'glum': \"sad',\", 'grief-stricken': \"sad',\", 'grieved': \"sad',\", 'guilt': \"sad',\", 'guilty': \"singled out',\", 'happy': \"happy',\", 'hardy': \"fearless',\", 'heartbroken': \"sad',\", 'heavyhearted': \"sad',\", 'hesitant': \"fearful',\", 'high-spirited': \"happy',\", 'hilarious': \"happy',\", 'hopeful': \"attracted',\", 'horny': \"lustful',\", 'horrified': \"fearful',\", 'hot and bothered': \"lustful',\", 'humiliated': \"sad',\", 'humorous': \"happy',\", 'hurt': \"sad',\", 'hysterical': \"fearful',\", 'ignored': \"hated',\", 'ill at ease': \"sad',\", 'immobilized': \"apathetic',\", 'immune': \"entitled',\", 'important': \"happy',\", 'impotent': \"powerless',\", 'imprisoned': \"entitled',\", 'in a huff': \"angry',\", 'in a stew': \"angry',\", 'in control': \"adequate',\", 'in fear': \"fearful',\", 'in pain': \"sad',\", 'in the dumps': \"sad',\", 'in the zone': \"focused',\", 'incensed': \"angry',\", 'included': \"attached',\", 'indecisive': \"anxious',\", 'independent': \"free',\", 'indignant': \"angry',\", 'infatuated': \"lustful',\", 'inflamed': \"angry',\", 'injured': \"sad',\", 'inquisitive': \"attracted',\", 'insecure': \"fearful',\", 'insignificant': \"belittled',\", 'intent': \"attracted',\", 'interested': \"attracted',\", 'interrogated': \"singled out',\", 'intrigued': \"attracted',\", 'irate': \"angry',\", 'irresolute': \"fearful',\", 'irresponsible': \"powerless',\", 'irritated': \"angry',\", 'isolated': \"alone',\", 'jaunty': \"happy',\", 'jocular': \"happy',\", 'jolly': \"happy',\", 'jovial': \"happy',\", 'joyful': \"happy',\", 'joyless': \"sad',\", 'joyous': \"happy',\", 'jubilant': \"happy',\", 'justified': \"singled out',\", 'keen': \"attracted',\", 'labeled': \"singled out',\", 'lackadaisical': \"bored',\", 'lazy': \"apathetic',\", 'left out': \"hated',\", 'let down': \"hated',\", 'lethargic': \"apathetic',\", 'lied to': \"cheated',\", 'lighthearted': \"happy',\", 'liked': \"attached',\", 'lively': \"happy',\", 'livid': \"angry',\", 'lonely': \"alone',\", 'lonesome': \"alone',\", 'lost': \"lost',\", 'loved': \"loved',\", 'low': \"sad',\", 'lucky': \"happy',\", 'lugubrious': \"sad',\", 'macho': \"independent',\", 'mad': \"angry',\", 'melancholy': \"sad',\", 'menaced': \"fearful',\", 'merry': \"happy',\", 'mirthful': \"happy',\", 'misgiving': \"fearful',\", 'misunderstood': \"alone',\", 'moody': \"sad',\", 'moping': \"sad',\", 'motivated': \"attracted',\", 'mournful': \"sad',\", 'needed': \"attracted',\", 'needy': \"codependent',\", 'nervous': \"fearful',\", 'obligated': \"powerless',\", 'obsessed': \"obsessed',\", 'offended': \"angry',\", 'oppressed': \"sad',\", 'optionless': \"entitled',\", 'ordinary': \"average',\", 'organized': \"adequate',\", 'out of control': \"powerless',\", 'out of sorts': \"sad',\", 'outmaneuvered': \"entitled',\", 'outraged': \"angry',\", 'overjoyed': \"happy',\", 'overlooked': \"hated',\", 'overwhelmed': \"powerless',\", 'panicked': \"fearful',\", 'passionate': \"lustful',\", 'passive': \"apathetic',\", 'pathetic': \"sad',\", 'peaceful': \"happy',\", 'pensive': \"anxious',\", 'perplexed': \"anxious',\", 'phobic': \"fearful',\", 'playful': \"happy',\", 'pleased': \"happy',\", 'powerless': \"powerless',\", 'pressured': \"burdened',\", 'privileged': \"entitled',\", 'proud': \"happy',\", 'provoked': \"angry',\", 'punished': \"hated',\", 'put upon': \"burdened',\", 'quaking': \"fearful',\", 'quiescent': \"apathetic',\", 'rageful': \"angry',\", 'rapturous': \"happy',\", 'rated': \"singled out',\", 'reassured': \"fearless',\", 'reckless': \"powerless',\", 'redeemed': \"singled out',\", 'regretful': \"sad',\", 'rejected': \"hated',\", 'released': \"free',\", 'remorse': \"sad',\", 'replaced': \"hated',\", 'repulsed': \"demoralized',\", 'resentful': \"angry',\", 'resolute': \"fearless',\", 'respected': \"esteemed',\", 'responsible': \"adequate',\", 'restful': \"fearful',\", 'revered': \"esteemed',\", 'rueful': \"sad',\", 'sad': \"sad',\", 'satisfied': \"happy',\", 'saucy': \"happy',\", 'scared': \"fearful',\", 'secure': \"fearless',\", 'self-reliant': \"fearless',\", 'serene': \"happy',\", 'shaky': \"fearful',\", 'shamed': \"sad',\", 'shocked': \"surprise',\", 'significant': \"esteemed',\", 'singled out': \"singled out',\", 'skeptical': \"anxious',\", 'snoopy': \"attracted',\", 'somber': \"sad',\", 'sparkling': \"happy',\", 'spirited': \"sad',\", 'spiritless': \"sad',\", 'sprightly': \"happy',\", 'startled': \"surprise',\", 'stereotyped': \"singled out',\", 'stifled': \"powerless',\", 'stout hearted': \"fearless',\", 'strong': \"independent',\", 'suffering': \"sad',\", 'sulky': \"sad',\", 'sullen': \"angry',\", 'sunny': \"happy',\", 'surprised': \"surprise',\", 'suspicious': \"fearful',\", 'sympathetic': \"codependent',\", 'tense': \"anxious',\", 'terrified': \"fearful',\", 'terrorized': \"fearful',\", 'thankful': \"happy',\", 'threatened': \"fearful',\", 'thwarted': \"powerless',\", 'timid': \"fearful',\", 'timorous': \"fearful',\", 'torn': \"derailed',\", 'tortured': \"sad',\", 'tragic': \"sad',\", 'tranquil': \"happy',\", 'transported': \"happy',\", 'trapped': \"entitled',\", 'tremulous': \"fearful',\", 'tricked': \"entitled',\", 'turned on': \"lustful',\", 'unapproved of': \"hated',\", 'unbelieving': \"anxious',\", 'uncertain': \"anxious',\", 'unconcerned': \"apathetic',\", 'understood': \"attached',\", 'unfocussed': \"lost',\", 'unlovable': \"hated',\", 'unloved': \"hated',\", 'unmotivated': \"apathetic',\", 'unshackled': \"free',\", 'unsupported': \"belittled',\", 'up in arms': \"angry',\", 'upset': \"fearful',\", 'validated': \"loved',\", 'valued': \"esteemed',\", 'violated': \"cheated',\", 'virulent': \"angry',\", 'vivacious': \"happy',\", 'vulnerable': \"powerless',\", 'wavering': \"anxious',\", 'weak': \"powerless',\", 'welcomed': \"loved',\", 'woebegone': \"sad',\", 'woeful': \"sad',\", 'worn down': \"powerless',\", 'worn out': \"powerless',\", 'worried': \"fearful',\", 'worshiped': \"esteemed',\", 'wrathful': \"angry',\", 'wronged': \"singled out',\", 'wrought up': \"angry',\", 'yearning': \"lustful',\", 'yellow': \"fearful',\", 'zealous': \"attracted',\", 'abandoned': \"hated',\", 'absolved': \"singled out',\", 'absorbed': \"attracted',\", 'abused': \"powerless',\", 'accepted': \"loved',\", 'aching': \"sad',\", 'acrimonious': \"angry',\", 'addicted': \"codependent',\", 'adequate': \"adequate',\", 'admired': \"esteemed',\", 'affectionate': \"attached',\", 'affronted': \"singled out',\", 'afraid': \"fearful',\", 'airy': \"happy',\", 'alone': \"alone',\", 'ambivalent': \"bored',\", 'arrogant': \"independent',\", 'ashamed': \"embarrassed',\", 'astonished': \"surprise',\", 'at ease': \"safe',\", 'attacked': \"fearful',\", 'audacious': \"fearless',\", 'average': \"average',\", 'avid': \"attracted',\", 'baffled': \"lost',\", 'bashful': \"powerless',\", 'belittled': \"belittled',\", 'buoyant': \"happy',\", 'burdened': \"burdened',\", 'clouded': \"sad',\", 'committed': \"focused',\", 'compassionate': \"attached',\", 'compelled': \"obsessed',\", 'dauntless': \"fearless',\", 'debonair': \"happy',\", 'deceived': \"entitled',\", 'delighted': \"ecstatic',\", 'demoralized': \"demoralized',\", 'derailed': \"derailed',\", 'desirous': \"attracted',\", 'despairing': \"sad',\", 'devastated': \"angry',\", 'diffident': \"fearful',\", 'discredited': \"belittled',\", 'disinclined': \"demoralized',\", 'disorganized': \"powerless',\", 'downcast': \"sad',\", 'entitled': \"entitled',\", 'exultant': \"happy',\", 'fidgety': \"fearful',\", 'frowning': \"sad',\", 'full of misgiving': \"anxious',\", 'great': \"happy',\", 'hapless': \"sad',\", 'hated': \"hated',\", 'heroic': \"fearless',\", 'hostile': \"angry',\", 'in despair': \"sad',\", 'indifferent': \"bored',\", 'infuriated': \"angry',\", 'inspired': \"happy',\", 'inspiring': \"attracted',\", 'judged': \"singled out',\", 'laughting': \"happy',\", 'loving': \"attached',\", 'lustful': \"lustful',\", 'manipulated': \"cheated',\", 'mumpish': \"sad',\", 'nosey': \"attracted',\", 'numb': \"apathetic',\", 'obliterated': \"powerless',\", 'petrified': \"fearful',\", 'piqued': \"angry',\", 'piteous': \"sad',\", 'questioning': \"anxious',\", 'self-satisfied': \"happy',\", 'set up': \"entitled',\", 'shut out': \"alone',\", 'sorrowful': \"sad',\", 'supported': \"esteemed',\", 'terrific': \"happy',\", 'trembling': \"fearful',\", 'uncomfortable': \"anxious',\", 'underestimated': \"belittled',\", 'unhappy': \"sad',\", 'vindicated': \"singled out',\", 'worked up': 'angry'}\n"
     ]
    }
   ],
   "source": [
    "# Assuming the file \"emotions.txt\" contains the text\n",
    "emotions_dict = {}\n",
    "\n",
    "with open(\"emotions.txt\", \"r\") as emotions:\n",
    "    for line in emotions:\n",
    "        clearline = line.replace('\\n', '').strip()  # Remove newline and strip extra spaces\n",
    "        if ':' in clearline:  # Ensure the line has key-value structure\n",
    "            key, value = clearline.split(':')  # Split into key and value\n",
    "            emotions_dict[key.strip(\"' \").strip()] = value.strip(\"' \").strip()  # Add to dictionary\n",
    "\n",
    "# Print the resulting dictionary\n",
    "print(emotions_dict)\n"
   ]
  },
  {
   "cell_type": "code",
   "execution_count": 16,
   "id": "97231462-bc65-41be-8caa-59aa0a2ebdfa",
   "metadata": {},
   "outputs": [
    {
     "name": "stdout",
     "output_type": "stream",
     "text": [
      "Emotion Counts from Lexicon: {\"happy',\": 1, \"adequate',\": 1, 'neutral': 12, \"fearful',\": 1, \"angry',\": 1}\n"
     ]
    }
   ],
   "source": [
    "emotion_counts = {}\n",
    "for token in processed_tokens:\n",
    "    emotion = emotions_dict.get(token, \"neutral\")\n",
    "    emotion_counts[emotion] = emotion_counts.get(emotion, 0) + 1\n",
    "\n",
    "print(\"Emotion Counts from Lexicon:\", emotion_counts)"
   ]
  },
  {
   "cell_type": "code",
   "execution_count": 17,
   "id": "45a5e3f2-dcb8-49a3-90cc-f4880f2f57e3",
   "metadata": {},
   "outputs": [
    {
     "name": "stderr",
     "output_type": "stream",
     "text": [
      "C:\\Users\\USER\\AppData\\Local\\Temp\\ipykernel_9424\\1829538100.py:7: FutureWarning: \n",
      "\n",
      "Passing `palette` without assigning `hue` is deprecated and will be removed in v0.14.0. Assign the `x` variable to `hue` and set `legend=False` for the same effect.\n",
      "\n",
      "  sns.barplot(x=emotion_labels, y=emotion_values, palette=\"viridis\")\n"
     ]
    },
    {
     "data": {
      "image/png": "[encoded data removed]",
      "text/plain": [
       "<Figure size 1000x500 with 1 Axes>"
      ]
     },
     "metadata": {},
     "output_type": "display_data"
    }
   ],
   "source": [
    "# Aggregate emotion counts (example for both methods)\n",
    "emotion_labels = list(emotion_counts.keys())\n",
    "emotion_values = list(emotion_counts.values())\n",
    "\n",
    "# Visualization\n",
    "plt.figure(figsize=(10, 5))\n",
    "sns.barplot(x=emotion_labels, y=emotion_values, palette=\"viridis\")\n",
    "plt.title(\"Emotion Distribution\")\n",
    "plt.xlabel(\"Emotions\")\n",
    "plt.ylabel(\"Frequency\")\n",
    "plt.show()\n"
   ]
  },
  {
   "cell_type": "code",
   "execution_count": null,
   "id": "8edfc671-5cdf-4e5e-9697-70ebfd747212",
   "metadata": {},
   "outputs": [],
   "source": []
  }
 ],
 "metadata": {
  "kernelspec": {
   "display_name": "Python 3 (ipykernel)",
   "language": "python",
   "name": "python3"
  },
  "language_info": {
   "codemirror_mode": {
    "name": "ipython",
    "version": 3
   },
   "file_extension": ".py",
   "mimetype": "text/x-python",
   "name": "python",
   "nbconvert_exporter": "python",
   "pygments_lexer": "ipython3",
   "version": "3.12.7"
  }
 },
 "nbformat": 4,
 "nbformat_minor": 5
}
